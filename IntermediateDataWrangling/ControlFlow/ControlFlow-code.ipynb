{
 "cells": [
  {
   "cell_type": "code",
   "execution_count": 1,
   "id": "e0db2d54",
   "metadata": {},
   "outputs": [],
   "source": [
    "#######################################################\n",
    "#######################################################\n",
    "############    COPYRIGHT - DATA SOCIETY   ############\n",
    "#######################################################\n",
    "#######################################################\n",
    "\n",
    "## INTERMEDIATEPYTHON/CONTROLFLOW/INTERMEDIATEPYTHON CONTROLFLOW 1 ##\n",
    "\n",
    "## NOTE: To run individual pieces of code, select the line of code and\n",
    "##       press ctrl + enter for PCs or command + enter for Macs"
   ]
  },
  {
   "cell_type": "code",
   "execution_count": 2,
   "id": "413de179-52d3-44b8-a7c6-5be8ff734c93",
   "metadata": {
    "tags": []
   },
   "outputs": [
    {
     "name": "stdout",
     "output_type": "stream",
     "text": [
      "Requirement already satisfied: jupyterlab-git in /usr/local/Caskroom/mambaforge/base/envs/py/lib/python3.9/site-packages (0.41.0)\n",
      "Requirement already satisfied: packaging in /usr/local/Caskroom/mambaforge/base/envs/py/lib/python3.9/site-packages (from jupyterlab-git) (23.0)\n",
      "Requirement already satisfied: jupyter-server<3,>=1.21.0 in /usr/local/Caskroom/mambaforge/base/envs/py/lib/python3.9/site-packages (from jupyterlab-git) (1.23.3)\n",
      "Requirement already satisfied: nbdime~=3.1 in /usr/local/Caskroom/mambaforge/base/envs/py/lib/python3.9/site-packages (from jupyterlab-git) (3.1.1)\n",
      "Requirement already satisfied: pexpect in /usr/local/Caskroom/mambaforge/base/envs/py/lib/python3.9/site-packages (from jupyterlab-git) (4.8.0)\n",
      "Requirement already satisfied: nbformat in /usr/local/Caskroom/mambaforge/base/envs/py/lib/python3.9/site-packages (from jupyterlab-git) (5.7.0)\n",
      "Requirement already satisfied: traitlets~=5.0 in /usr/local/Caskroom/mambaforge/base/envs/py/lib/python3.9/site-packages (from jupyterlab-git) (5.6.0)\n",
      "Requirement already satisfied: anyio<4,>=3.1.0 in /usr/local/Caskroom/mambaforge/base/envs/py/lib/python3.9/site-packages (from jupyter-server<3,>=1.21.0->jupyterlab-git) (3.6.2)\n",
      "Requirement already satisfied: pyzmq>=17 in /usr/local/Caskroom/mambaforge/base/envs/py/lib/python3.9/site-packages (from jupyter-server<3,>=1.21.0->jupyterlab-git) (24.0.1)\n",
      "Requirement already satisfied: terminado>=0.8.3 in /usr/local/Caskroom/mambaforge/base/envs/py/lib/python3.9/site-packages (from jupyter-server<3,>=1.21.0->jupyterlab-git) (0.17.1)\n",
      "Requirement already satisfied: argon2-cffi in /usr/local/Caskroom/mambaforge/base/envs/py/lib/python3.9/site-packages (from jupyter-server<3,>=1.21.0->jupyterlab-git) (21.3.0)\n",
      "Requirement already satisfied: Send2Trash in /usr/local/Caskroom/mambaforge/base/envs/py/lib/python3.9/site-packages (from jupyter-server<3,>=1.21.0->jupyterlab-git) (1.8.0)\n",
      "Requirement already satisfied: jupyter-core>=4.7.0 in /usr/local/Caskroom/mambaforge/base/envs/py/lib/python3.9/site-packages (from jupyter-server<3,>=1.21.0->jupyterlab-git) (5.1.0)\n",
      "Requirement already satisfied: websocket-client in /usr/local/Caskroom/mambaforge/base/envs/py/lib/python3.9/site-packages (from jupyter-server<3,>=1.21.0->jupyterlab-git) (1.4.2)\n",
      "Requirement already satisfied: tornado>=6.1.0 in /usr/local/Caskroom/mambaforge/base/envs/py/lib/python3.9/site-packages (from jupyter-server<3,>=1.21.0->jupyterlab-git) (6.2)\n",
      "Requirement already satisfied: nbconvert>=6.4.4 in /usr/local/Caskroom/mambaforge/base/envs/py/lib/python3.9/site-packages (from jupyter-server<3,>=1.21.0->jupyterlab-git) (7.2.6)\n",
      "Requirement already satisfied: jinja2 in /usr/local/Caskroom/mambaforge/base/envs/py/lib/python3.9/site-packages (from jupyter-server<3,>=1.21.0->jupyterlab-git) (3.1.2)\n",
      "Requirement already satisfied: prometheus-client in /usr/local/Caskroom/mambaforge/base/envs/py/lib/python3.9/site-packages (from jupyter-server<3,>=1.21.0->jupyterlab-git) (0.15.0)\n",
      "Requirement already satisfied: jupyter-client>=6.1.12 in /usr/local/Caskroom/mambaforge/base/envs/py/lib/python3.9/site-packages (from jupyter-server<3,>=1.21.0->jupyterlab-git) (7.4.8)\n",
      "Requirement already satisfied: colorama in /usr/local/Caskroom/mambaforge/base/envs/py/lib/python3.9/site-packages (from nbdime~=3.1->jupyterlab-git) (0.4.6)\n",
      "Requirement already satisfied: GitPython!=2.1.4,!=2.1.5,!=2.1.6 in /usr/local/Caskroom/mambaforge/base/envs/py/lib/python3.9/site-packages (from nbdime~=3.1->jupyterlab-git) (3.1.31)\n",
      "Requirement already satisfied: pygments in /usr/local/Caskroom/mambaforge/base/envs/py/lib/python3.9/site-packages (from nbdime~=3.1->jupyterlab-git) (2.13.0)\n",
      "Requirement already satisfied: jupyter-server-mathjax>=0.2.2 in /usr/local/Caskroom/mambaforge/base/envs/py/lib/python3.9/site-packages (from nbdime~=3.1->jupyterlab-git) (0.2.6)\n",
      "Requirement already satisfied: requests in /usr/local/Caskroom/mambaforge/base/envs/py/lib/python3.9/site-packages (from nbdime~=3.1->jupyterlab-git) (2.28.1)\n",
      "Requirement already satisfied: jsonschema>=2.6 in /usr/local/Caskroom/mambaforge/base/envs/py/lib/python3.9/site-packages (from nbformat->jupyterlab-git) (4.17.3)\n",
      "Requirement already satisfied: fastjsonschema in /usr/local/Caskroom/mambaforge/base/envs/py/lib/python3.9/site-packages (from nbformat->jupyterlab-git) (2.16.2)\n",
      "Requirement already satisfied: ptyprocess>=0.5 in /usr/local/Caskroom/mambaforge/base/envs/py/lib/python3.9/site-packages (from pexpect->jupyterlab-git) (0.7.0)\n",
      "Requirement already satisfied: sniffio>=1.1 in /usr/local/Caskroom/mambaforge/base/envs/py/lib/python3.9/site-packages (from anyio<4,>=3.1.0->jupyter-server<3,>=1.21.0->jupyterlab-git) (1.3.0)\n",
      "Requirement already satisfied: idna>=2.8 in /usr/local/Caskroom/mambaforge/base/envs/py/lib/python3.9/site-packages (from anyio<4,>=3.1.0->jupyter-server<3,>=1.21.0->jupyterlab-git) (3.4)\n",
      "Requirement already satisfied: gitdb<5,>=4.0.1 in /usr/local/Caskroom/mambaforge/base/envs/py/lib/python3.9/site-packages (from GitPython!=2.1.4,!=2.1.5,!=2.1.6->nbdime~=3.1->jupyterlab-git) (4.0.10)\n",
      "Requirement already satisfied: MarkupSafe>=2.0 in /usr/local/Caskroom/mambaforge/base/envs/py/lib/python3.9/site-packages (from jinja2->jupyter-server<3,>=1.21.0->jupyterlab-git) (2.1.1)\n",
      "Requirement already satisfied: attrs>=17.4.0 in /usr/local/Caskroom/mambaforge/base/envs/py/lib/python3.9/site-packages (from jsonschema>=2.6->nbformat->jupyterlab-git) (22.1.0)\n",
      "Requirement already satisfied: pyrsistent!=0.17.0,!=0.17.1,!=0.17.2,>=0.14.0 in /usr/local/Caskroom/mambaforge/base/envs/py/lib/python3.9/site-packages (from jsonschema>=2.6->nbformat->jupyterlab-git) (0.19.2)\n",
      "Requirement already satisfied: nest-asyncio>=1.5.4 in /usr/local/Caskroom/mambaforge/base/envs/py/lib/python3.9/site-packages (from jupyter-client>=6.1.12->jupyter-server<3,>=1.21.0->jupyterlab-git) (1.5.6)\n",
      "Requirement already satisfied: entrypoints in /usr/local/Caskroom/mambaforge/base/envs/py/lib/python3.9/site-packages (from jupyter-client>=6.1.12->jupyter-server<3,>=1.21.0->jupyterlab-git) (0.4)\n",
      "Requirement already satisfied: python-dateutil>=2.8.2 in /usr/local/Caskroom/mambaforge/base/envs/py/lib/python3.9/site-packages (from jupyter-client>=6.1.12->jupyter-server<3,>=1.21.0->jupyterlab-git) (2.8.2)\n",
      "Requirement already satisfied: platformdirs>=2.5 in /usr/local/Caskroom/mambaforge/base/envs/py/lib/python3.9/site-packages (from jupyter-core>=4.7.0->jupyter-server<3,>=1.21.0->jupyterlab-git) (2.5.2)\n",
      "Requirement already satisfied: pandocfilters>=1.4.1 in /usr/local/Caskroom/mambaforge/base/envs/py/lib/python3.9/site-packages (from nbconvert>=6.4.4->jupyter-server<3,>=1.21.0->jupyterlab-git) (1.5.0)\n",
      "Requirement already satisfied: mistune<3,>=2.0.3 in /usr/local/Caskroom/mambaforge/base/envs/py/lib/python3.9/site-packages (from nbconvert>=6.4.4->jupyter-server<3,>=1.21.0->jupyterlab-git) (2.0.4)\n",
      "Requirement already satisfied: nbclient>=0.5.0 in /usr/local/Caskroom/mambaforge/base/envs/py/lib/python3.9/site-packages (from nbconvert>=6.4.4->jupyter-server<3,>=1.21.0->jupyterlab-git) (0.7.2)\n",
      "Requirement already satisfied: bleach in /usr/local/Caskroom/mambaforge/base/envs/py/lib/python3.9/site-packages (from nbconvert>=6.4.4->jupyter-server<3,>=1.21.0->jupyterlab-git) (5.0.1)\n",
      "Requirement already satisfied: defusedxml in /usr/local/Caskroom/mambaforge/base/envs/py/lib/python3.9/site-packages (from nbconvert>=6.4.4->jupyter-server<3,>=1.21.0->jupyterlab-git) (0.7.1)\n",
      "Requirement already satisfied: jupyterlab-pygments in /usr/local/Caskroom/mambaforge/base/envs/py/lib/python3.9/site-packages (from nbconvert>=6.4.4->jupyter-server<3,>=1.21.0->jupyterlab-git) (0.2.2)\n",
      "Requirement already satisfied: tinycss2 in /usr/local/Caskroom/mambaforge/base/envs/py/lib/python3.9/site-packages (from nbconvert>=6.4.4->jupyter-server<3,>=1.21.0->jupyterlab-git) (1.2.1)\n",
      "Requirement already satisfied: importlib-metadata>=3.6 in /usr/local/Caskroom/mambaforge/base/envs/py/lib/python3.9/site-packages (from nbconvert>=6.4.4->jupyter-server<3,>=1.21.0->jupyterlab-git) (5.1.0)\n",
      "Requirement already satisfied: beautifulsoup4 in /usr/local/Caskroom/mambaforge/base/envs/py/lib/python3.9/site-packages (from nbconvert>=6.4.4->jupyter-server<3,>=1.21.0->jupyterlab-git) (4.11.1)\n",
      "Requirement already satisfied: argon2-cffi-bindings in /usr/local/Caskroom/mambaforge/base/envs/py/lib/python3.9/site-packages (from argon2-cffi->jupyter-server<3,>=1.21.0->jupyterlab-git) (21.2.0)\n",
      "Requirement already satisfied: urllib3<1.27,>=1.21.1 in /usr/local/Caskroom/mambaforge/base/envs/py/lib/python3.9/site-packages (from requests->nbdime~=3.1->jupyterlab-git) (1.26.13)\n",
      "Requirement already satisfied: certifi>=2017.4.17 in /usr/local/Caskroom/mambaforge/base/envs/py/lib/python3.9/site-packages (from requests->nbdime~=3.1->jupyterlab-git) (2022.12.7)\n",
      "Requirement already satisfied: charset-normalizer<3,>=2 in /usr/local/Caskroom/mambaforge/base/envs/py/lib/python3.9/site-packages (from requests->nbdime~=3.1->jupyterlab-git) (2.1.1)\n",
      "Requirement already satisfied: smmap<6,>=3.0.1 in /usr/local/Caskroom/mambaforge/base/envs/py/lib/python3.9/site-packages (from gitdb<5,>=4.0.1->GitPython!=2.1.4,!=2.1.5,!=2.1.6->nbdime~=3.1->jupyterlab-git) (5.0.0)\n",
      "Requirement already satisfied: zipp>=0.5 in /usr/local/Caskroom/mambaforge/base/envs/py/lib/python3.9/site-packages (from importlib-metadata>=3.6->nbconvert>=6.4.4->jupyter-server<3,>=1.21.0->jupyterlab-git) (3.11.0)\n",
      "Requirement already satisfied: six>=1.5 in /usr/local/Caskroom/mambaforge/base/envs/py/lib/python3.9/site-packages (from python-dateutil>=2.8.2->jupyter-client>=6.1.12->jupyter-server<3,>=1.21.0->jupyterlab-git) (1.16.0)\n",
      "Requirement already satisfied: cffi>=1.0.1 in /usr/local/Caskroom/mambaforge/base/envs/py/lib/python3.9/site-packages (from argon2-cffi-bindings->argon2-cffi->jupyter-server<3,>=1.21.0->jupyterlab-git) (1.15.1)\n",
      "Requirement already satisfied: soupsieve>1.2 in /usr/local/Caskroom/mambaforge/base/envs/py/lib/python3.9/site-packages (from beautifulsoup4->nbconvert>=6.4.4->jupyter-server<3,>=1.21.0->jupyterlab-git) (2.3.2.post1)\n",
      "Requirement already satisfied: webencodings in /usr/local/Caskroom/mambaforge/base/envs/py/lib/python3.9/site-packages (from bleach->nbconvert>=6.4.4->jupyter-server<3,>=1.21.0->jupyterlab-git) (0.5.1)\n",
      "Requirement already satisfied: pycparser in /usr/local/Caskroom/mambaforge/base/envs/py/lib/python3.9/site-packages (from cffi>=1.0.1->argon2-cffi-bindings->argon2-cffi->jupyter-server<3,>=1.21.0->jupyterlab-git) (2.21)\n",
      "Note: you may need to restart the kernel to use updated packages.\n"
     ]
    }
   ],
   "source": [
    "%pip install jupyterlab-git"
   ]
  },
  {
   "cell_type": "code",
   "execution_count": 3,
   "id": "c456fdc4",
   "metadata": {},
   "outputs": [
    {
     "name": "stdout",
     "output_type": "stream",
     "text": [
      "Good, we are sane!\n"
     ]
    }
   ],
   "source": [
    "# =================================================-\n",
    "#### Slide 14: Conditional statements (cont'd)  ####\n",
    "\n",
    "if 2 + 2 == 4:\n",
    "    print(\"Good, we are sane!\")\n",
    "else:\n",
    "    print(\"We are living in 1984!\")"
   ]
  },
  {
   "cell_type": "code",
   "execution_count": 4,
   "id": "031a48ea-bab8-4026-a904-c40bc95bec77",
   "metadata": {},
   "outputs": [
    {
     "data": {
      "text/plain": [
       "'Good, we are sane!'"
      ]
     },
     "execution_count": 4,
     "metadata": {},
     "output_type": "execute_result"
    }
   ],
   "source": [
    "\"Good, we are sane!\" if 2 + 2 == 4 else \"Nothing makes sense\""
   ]
  },
  {
   "cell_type": "code",
   "execution_count": 5,
   "id": "d33c0699-8980-4864-913d-1e15d85fd1d9",
   "metadata": {},
   "outputs": [
    {
     "name": "stdout",
     "output_type": "stream",
     "text": [
      "0\n",
      "1\n",
      "2\n",
      "3\n",
      "4\n",
      "5\n",
      "6\n",
      "7\n",
      "8\n"
     ]
    }
   ],
   "source": [
    "for x in range(9):\n",
    "    print(x)"
   ]
  },
  {
   "cell_type": "code",
   "execution_count": null,
   "id": "10d48795-57f9-4d14-a94f-f1c18e4ee7b2",
   "metadata": {},
   "outputs": [],
   "source": []
  },
  {
   "cell_type": "code",
   "execution_count": 6,
   "id": "65a37367",
   "metadata": {},
   "outputs": [
    {
     "name": "stdout",
     "output_type": "stream",
     "text": [
      "True\n",
      "False\n"
     ]
    }
   ],
   "source": [
    "# =================================================-\n",
    "#### Slide 16: Recap: Combining Booleans  ####\n",
    "\n",
    "# Check if 2 conditions are true\n",
    "# for the expression to return `True`!\n",
    "x = 8\n",
    "print(x > 5 and x < 10)\n",
    "# Every single condition much be true for this expression to return `True`!\n",
    "print(x > 5 and x > 1 and abs(x) == 7 and x < 10)"
   ]
  },
  {
   "cell_type": "code",
   "execution_count": 7,
   "id": "2a1329f0",
   "metadata": {},
   "outputs": [
    {
     "name": "stdout",
     "output_type": "stream",
     "text": [
      "True\n",
      "False\n",
      "False\n"
     ]
    }
   ],
   "source": [
    "# =================================================-\n",
    "#### Slide 17: Condition types  ####\n",
    "\n",
    "condition = 2 + 2 == 4\n",
    "print(condition)\n",
    "\n",
    "another_condition = \"this string\" == \"that string\"\n",
    "print(another_condition)\n",
    "yet_another_condition = 5 + 10 > 10 + 5\n",
    "print(yet_another_condition)"
   ]
  },
  {
   "cell_type": "code",
   "execution_count": 8,
   "id": "5c2e1a89",
   "metadata": {},
   "outputs": [
    {
     "name": "stdout",
     "output_type": "stream",
     "text": [
      "False\n",
      "True\n",
      "True\n"
     ]
    }
   ],
   "source": [
    "# =================================================-\n",
    "#### Slide 18: Condition types (cont'd)  ####\n",
    "\n",
    "compound_condition1 = (5 + 10 > 10 + 5) and (\"this string\" == \"this string\")\n",
    "print(compound_condition1)\n",
    "compound_condition2 = (5 + 10 >= 10 + 5) and (\"this string\" == \"this string\")\n",
    "print(compound_condition2)\n",
    "# Here, it's helpful to look at each condition individually.\n",
    "# If one of them is true, then the whole statement is true.\n",
    "compound_condition3 = (compound_condition1 and compound_condition2) or (\n",
    "    100 / 2 > 100 % 2\n",
    ")\n",
    "print(compound_condition3)"
   ]
  },
  {
   "cell_type": "code",
   "execution_count": 9,
   "id": "af5c15fb",
   "metadata": {},
   "outputs": [
    {
     "name": "stdout",
     "output_type": "stream",
     "text": [
      "Compound condition 1 is false, do something else!\n",
      "Compound condition 1 is false, do something else!\n"
     ]
    }
   ],
   "source": [
    "# =================================================-\n",
    "#### Slide 19: Putting it all together  ####\n",
    "\n",
    "if (5 + 10 > 10 + 5) and (\"this string\" == \"this string\"):\n",
    "    print(\"Compound condition 1 is true, do something!\")\n",
    "else:\n",
    "    print(\"Compound condition 1 is false, do something else!\")\n",
    "compound_condition1 = (5 + 10 > 10 + 5) and (\"this string\" == \"this string\")\n",
    "\n",
    "if compound_condition1:\n",
    "    print(\"Compound condition 1 is true, do something!\")\n",
    "else:\n",
    "    print(\"Compound condition 1 is false, do something else!\")"
   ]
  },
  {
   "cell_type": "code",
   "execution_count": 10,
   "id": "f41d1723",
   "metadata": {},
   "outputs": [
    {
     "name": "stdout",
     "output_type": "stream",
     "text": [
      "Ok, I guess I have to do something after all!\n"
     ]
    }
   ],
   "source": [
    "# =================================================-\n",
    "#### Slide 20: Special cases of conditional blocks  ####\n",
    "\n",
    "if compound_condition2:\n",
    "    print(\"Ok, I guess I have to do something after all!\")\n",
    "if yet_another_condition:\n",
    "    print(\n",
    "        \"This means the `compound_condition3` is true, otherwise you will get nothing!\"\n",
    "    )"
   ]
  },
  {
   "cell_type": "code",
   "execution_count": 11,
   "id": "42fb633c",
   "metadata": {},
   "outputs": [
    {
     "name": "stdout",
     "output_type": "stream",
     "text": [
      "A little pricey but maybe worth it...\n"
     ]
    }
   ],
   "source": [
    "# =================================================-\n",
    "#### Slide 21: Special cases of conditional blocks (cont'd)  ####\n",
    "\n",
    "price = 37000\n",
    "\n",
    "if price > 40000:\n",
    "    print(\"That's too expensive!\")\n",
    "elif price > 34000:\n",
    "    print(\"A little pricey but maybe worth it...\")\n",
    "elif price > 26000:\n",
    "    print(\"This seems like a fair price for the quality\")\n",
    "elif price > 22000:\n",
    "    print(\"What a good deal! I'll get it\")\n",
    "else:\n",
    "    print(\"Hmmm this is pretty cheap, maybe there's a problem with it.\")"
   ]
  },
  {
   "cell_type": "code",
   "execution_count": 12,
   "id": "00e63bb4",
   "metadata": {},
   "outputs": [
    {
     "name": "stdout",
     "output_type": "stream",
     "text": [
      "You still got to the nested statement!\n"
     ]
    }
   ],
   "source": [
    "# =================================================-\n",
    "#### Slide 22: Special cases of conditional blocks (cont'd)  ####\n",
    "\n",
    "if condition:\n",
    "    if another_condition:\n",
    "        print(\"You got to a nested statement!\")\n",
    "    else:\n",
    "        print(\"You still got to the nested statement!\")\n",
    "else:\n",
    "    print(\"No luck printing a nested statement!\")"
   ]
  },
  {
   "cell_type": "code",
   "execution_count": 13,
   "id": "baf5dcfc",
   "metadata": {},
   "outputs": [
    {
     "name": "stdout",
     "output_type": "stream",
     "text": [
      "Take the car and go celebrate, you can afford it!\n",
      "Current account balance: 8000\n"
     ]
    }
   ],
   "source": [
    "# =================================================-\n",
    "#### Slide 23: Actions within conditional blocks  ####\n",
    "\n",
    "price = 37000\n",
    "account_balance = 45000\n",
    "\n",
    "if price > 38000:\n",
    "    action = \"Leave the dealership immediately, this is a rip off!\"\n",
    "    account_balance = account_balance - price\n",
    "elif price > 22000 and price <= 38000:\n",
    "    action = \"Take the car and go celebrate, you can afford it!\"\n",
    "    account_balance = account_balance - price\n",
    "else:\n",
    "    action = \"Leave the dealership immediately, this is a scam!\"\n",
    "    account_balance = account_balance - price\n",
    "\n",
    "print(action)\n",
    "print(\"Current account balance:\", account_balance)"
   ]
  },
  {
   "cell_type": "code",
   "execution_count": 14,
   "id": "f342925e",
   "metadata": {},
   "outputs": [
    {
     "name": "stdout",
     "output_type": "stream",
     "text": [
      "Leave the dealership immediately, this is a rip off!\n",
      "Current account balance: 4000\n"
     ]
    }
   ],
   "source": [
    "# =================================================-\n",
    "#### Slide 24: Actions within conditional blocks (cont'd)  ####\n",
    "\n",
    "price = 41000\n",
    "account_balance = 45000\n",
    "\n",
    "if price > 38000:\n",
    "    action = \"Leave the dealership immediately, this is a rip off!\"\n",
    "    account_balance = account_balance - price\n",
    "elif price > 22000 and price <= 38000:\n",
    "    action = \"Take the car and go celebrate, you can afford it!\"\n",
    "    account_balance = account_balance - price\n",
    "else:\n",
    "    action = \"Leave the dealership immediately, this is a scam!\"\n",
    "    account_balance = account_balance - price\n",
    "\n",
    "print(action)\n",
    "print(\"Current account balance:\", account_balance)\n",
    "\n",
    "\n",
    "#######################################################\n",
    "####  CONGRATULATIONS ON COMPLETING THIS MODULE!   ####\n",
    "#######################################################"
   ]
  },
  {
   "cell_type": "code",
   "execution_count": 15,
   "id": "73a09cff",
   "metadata": {},
   "outputs": [],
   "source": [
    "#######################################################\n",
    "#######################################################\n",
    "############    COPYRIGHT - DATA SOCIETY   ############\n",
    "#######################################################\n",
    "#######################################################\n",
    "\n",
    "## INTERMEDIATEPYTHON/CONTROLFLOW/INTERMEDIATEPYTHON CONTROLFLOW 2 ##\n",
    "\n",
    "## NOTE: To run individual pieces of code, select the line of code and\n",
    "##       press ctrl + enter for PCs or command + enter for Macs"
   ]
  },
  {
   "cell_type": "code",
   "execution_count": 16,
   "id": "a5ef69b8-c677-451b-b098-cfb559d593ee",
   "metadata": {},
   "outputs": [
    {
     "data": {
      "text/plain": [
       "[10, 12, 14, 16, 18]"
      ]
     },
     "execution_count": 16,
     "metadata": {},
     "output_type": "execute_result"
    }
   ],
   "source": [
    "list(range(10, 20, 2))"
   ]
  },
  {
   "cell_type": "code",
   "execution_count": 17,
   "id": "ce52849b-7b86-4977-bc01-ed7030d99149",
   "metadata": {},
   "outputs": [
    {
     "data": {
      "text/plain": [
       "[1, 2, 4, 8, 16, 32, 64, 128, 256, 512]"
      ]
     },
     "execution_count": 17,
     "metadata": {},
     "output_type": "execute_result"
    }
   ],
   "source": [
    "[2**x for x in range(10)]"
   ]
  },
  {
   "cell_type": "code",
   "execution_count": 18,
   "id": "111e06bc-7790-47bc-b9b2-3672598de5af",
   "metadata": {},
   "outputs": [],
   "source": [
    "def infinite_loop():\n",
    "    c = 0\n",
    "    while True:\n",
    "        yield c\n",
    "        c += 1"
   ]
  },
  {
   "cell_type": "code",
   "execution_count": 19,
   "id": "173c0849-bbec-4233-9de4-00bf5b492069",
   "metadata": {},
   "outputs": [],
   "source": [
    "xyz = infinite_loop()"
   ]
  },
  {
   "cell_type": "code",
   "execution_count": 20,
   "id": "114022b2-d4d2-489b-ae2e-59c175ad311d",
   "metadata": {},
   "outputs": [
    {
     "name": "stdout",
     "output_type": "stream",
     "text": [
      "0\n",
      "1\n",
      "2\n",
      "3\n",
      "4\n",
      "5\n",
      "6\n",
      "7\n",
      "8\n",
      "9\n",
      "10\n"
     ]
    }
   ],
   "source": [
    "for i in xyz:\n",
    "    print(i)\n",
    "    if i > 9:\n",
    "        break"
   ]
  },
  {
   "cell_type": "code",
   "execution_count": 21,
   "id": "d8433ea5",
   "metadata": {},
   "outputs": [
    {
     "name": "stdout",
     "output_type": "stream",
     "text": [
      "Invite Christian Bale!\n",
      "Invite Bradley Cooper!\n",
      "Invite Willem Dafoe!\n",
      "Invite Rami Malek!\n",
      "Invite Viggo Mortensen!\n",
      "Invite Yalitza Aparicio!\n",
      "Invite Glenn Close!\n",
      "Invite Olivia Colman!\n",
      "Invite Lady Gaga!\n",
      "Invite Melissa McCarthy!\n"
     ]
    }
   ],
   "source": [
    "# =================================================-\n",
    "#### Slide 6: Sample for loop - party invitations  ####\n",
    "\n",
    "contact_list = [\n",
    "    \"Christian Bale\",\n",
    "    \"Bradley Cooper\",\n",
    "    \"Willem Dafoe\",\n",
    "    \"Rami Malek\",\n",
    "    \"Viggo Mortensen\",\n",
    "    \"Yalitza Aparicio\",\n",
    "    \"Glenn Close\",\n",
    "    \"Olivia Colman\",\n",
    "    \"Lady Gaga\",\n",
    "    \"Melissa McCarthy\",\n",
    "]\n",
    "for name in contact_list:\n",
    "    print(\"Invite \" + name + \"!\")"
   ]
  },
  {
   "cell_type": "code",
   "execution_count": 22,
   "id": "416b5316",
   "metadata": {},
   "outputs": [
    {
     "name": "stdout",
     "output_type": "stream",
     "text": [
      "range(0, 10)\n",
      "0\n",
      "1\n",
      "2\n",
      "3\n",
      "4\n",
      "5\n",
      "6\n",
      "7\n",
      "8\n",
      "9\n"
     ]
    }
   ],
   "source": [
    "# =================================================-\n",
    "#### Slide 9: Making a sequence of numbers in Python (cont'd)  ####\n",
    "\n",
    "sequence = range(10)\n",
    "print(sequence)\n",
    "\n",
    "for number in sequence:\n",
    "    print(number)"
   ]
  },
  {
   "cell_type": "code",
   "execution_count": 23,
   "id": "2920e155",
   "metadata": {},
   "outputs": [
    {
     "name": "stdout",
     "output_type": "stream",
     "text": [
      "range(1, 11)\n",
      "1\n",
      "2\n",
      "3\n",
      "4\n",
      "5\n",
      "6\n",
      "7\n",
      "8\n",
      "9\n",
      "10\n"
     ]
    }
   ],
   "source": [
    "# =================================================-\n",
    "#### Slide 10: Making a sequence of numbers in Python (cont'd)  ####\n",
    "\n",
    "sequence = range(1, 11)\n",
    "print(sequence)\n",
    "\n",
    "for number in sequence:\n",
    "    print(number)"
   ]
  },
  {
   "cell_type": "code",
   "execution_count": 24,
   "id": "eb59f639",
   "metadata": {},
   "outputs": [
    {
     "name": "stdout",
     "output_type": "stream",
     "text": [
      "range(2, 21, 2)\n",
      "2\n",
      "4\n",
      "6\n",
      "8\n",
      "10\n",
      "12\n",
      "14\n",
      "16\n",
      "18\n",
      "20\n"
     ]
    }
   ],
   "source": [
    "# =================================================-\n",
    "#### Slide 11: Making a sequence of numbers in Python (cont'd)  ####\n",
    "\n",
    "sequence = range(2, 21, 2)\n",
    "print(sequence)\n",
    "\n",
    "for number in sequence:\n",
    "    print(number)"
   ]
  },
  {
   "cell_type": "code",
   "execution_count": 25,
   "id": "b586ecce",
   "metadata": {},
   "outputs": [
    {
     "name": "stdout",
     "output_type": "stream",
     "text": [
      "10\n",
      "Invite Christian Bale!\n",
      "Invite Bradley Cooper!\n",
      "Invite Willem Dafoe!\n",
      "Invite Rami Malek!\n",
      "Invite Viggo Mortensen!\n",
      "Invite Yalitza Aparicio!\n",
      "Invite Glenn Close!\n",
      "Invite Olivia Colman!\n",
      "Invite Lady Gaga!\n",
      "Invite Melissa McCarthy!\n"
     ]
    }
   ],
   "source": [
    "# =================================================-\n",
    "#### Slide 12: For loops with counters in Python  ####\n",
    "\n",
    "print(len(contact_list))\n",
    "\n",
    "# Save length of the list as number of contacts\n",
    "# for convenience.\n",
    "num_contacts = len(contact_list)\n",
    "\n",
    "# Go through indices in a range between 0 and 9.\n",
    "for i in range(num_contacts):\n",
    "    # Invite a person in the list at index i.\n",
    "    print(\"Invite \" + contact_list[i] + \"!\")"
   ]
  },
  {
   "cell_type": "code",
   "execution_count": 26,
   "id": "282eb1f8-09eb-4034-8f06-5b5f2415650b",
   "metadata": {},
   "outputs": [
    {
     "name": "stdout",
     "output_type": "stream",
     "text": [
      "10\n",
      "Invite guest #0: Christian Bale!\n",
      "Invite guest #1: Bradley Cooper!\n",
      "Invite guest #2: Willem Dafoe!\n",
      "Invite guest #3: Rami Malek!\n",
      "Invite guest #4: Viggo Mortensen!\n",
      "Invite guest #5: Yalitza Aparicio!\n",
      "Invite guest #6: Glenn Close!\n",
      "Invite guest #7: Olivia Colman!\n",
      "Invite guest #8: Lady Gaga!\n",
      "Invite guest #9: Melissa McCarthy!\n"
     ]
    }
   ],
   "source": [
    "# =================================================-\n",
    "#### Slide 12: For loops with counters in Python  ####\n",
    "\n",
    "print(len(contact_list))\n",
    "\n",
    "# Save length of the list as number of contacts\n",
    "# for convenience.\n",
    "\n",
    "# Go through indices in a range between 0 and 9.\n",
    "for i, guest in enumerate(contact_list):\n",
    "    # Invite a person in the list at index i.\n",
    "    print(f\"Invite guest #{i}: {guest}!\")"
   ]
  },
  {
   "cell_type": "code",
   "execution_count": 27,
   "id": "db844311",
   "metadata": {},
   "outputs": [],
   "source": [
    "# =================================================-\n",
    "#### Slide 13: Using a for loop to build an object  ####\n",
    "\n",
    "squares = []"
   ]
  },
  {
   "cell_type": "code",
   "execution_count": 28,
   "id": "5829968d",
   "metadata": {},
   "outputs": [
    {
     "name": "stdout",
     "output_type": "stream",
     "text": [
      "[25, 36, 49, 64, 81, 100, 121, 144, 169, 196, 225]\n"
     ]
    }
   ],
   "source": [
    "# =================================================-\n",
    "#### Slide 14: Using a for loop to build an object (cont'd)  ####\n",
    "squares = []\n",
    "for x in range(5, 16):\n",
    "    squares.append(x**2)\n",
    "print(squares)"
   ]
  },
  {
   "cell_type": "code",
   "execution_count": 29,
   "id": "2ec8b9fd",
   "metadata": {},
   "outputs": [
    {
     "name": "stdout",
     "output_type": "stream",
     "text": [
      "[25, 36, 49, 64, 81, 100, 121, 144, 169, 196, 225]\n"
     ]
    }
   ],
   "source": [
    "# =================================================-\n",
    "#### Slide 16: List comprehension  ####\n",
    "\n",
    "squares = [x**2 for x in range(5, 16)]\n",
    "squares = [pow(x, 2) for x in range(5, 16)]\n",
    "print(squares)"
   ]
  },
  {
   "cell_type": "code",
   "execution_count": 30,
   "id": "ba21f034-c439-4f84-a323-dab2dddcae47",
   "metadata": {},
   "outputs": [
    {
     "data": {
      "text/plain": [
       "{0: 'a', 1: 'b', 2: 'c'}"
      ]
     },
     "execution_count": 30,
     "metadata": {},
     "output_type": "execute_result"
    }
   ],
   "source": [
    "list(range(9))\n",
    "\n",
    "dict(enumerate(\"abc\"))"
   ]
  },
  {
   "cell_type": "code",
   "execution_count": 31,
   "id": "2d5d5f9f-3173-45da-90d0-e1e4d45cad05",
   "metadata": {},
   "outputs": [
    {
     "data": {
      "text/plain": [
       "[0, 1, 4, 9, 16, 25, 36, 49, 64]"
      ]
     },
     "execution_count": 31,
     "metadata": {},
     "output_type": "execute_result"
    }
   ],
   "source": [
    "[*map(pow, range(9), [2] * 9)]"
   ]
  },
  {
   "cell_type": "code",
   "execution_count": 32,
   "id": "a492cee1-6481-4de1-b035-05776b3e34cd",
   "metadata": {},
   "outputs": [
    {
     "data": {
      "text/plain": [
       "[0, 1, 4, 9, 16, 25, 36, 49, 64]"
      ]
     },
     "execution_count": 32,
     "metadata": {},
     "output_type": "execute_result"
    }
   ],
   "source": [
    "[x**2 for x in range(9)]"
   ]
  },
  {
   "cell_type": "code",
   "execution_count": 33,
   "id": "8c6b2d68-3b75-4a53-8b9c-c972aed20a26",
   "metadata": {},
   "outputs": [],
   "source": [
    "# =================================================-\n",
    "#### Slide 17: Looping over a dictionary  ####\n",
    "\n",
    "prices = {\"bus\": 1.75, \"metro\": 3.50, \"uber\": 8.75, \"lyft\": 7.50}"
   ]
  },
  {
   "cell_type": "code",
   "execution_count": 34,
   "id": "851bf51f-48a3-444b-a765-6cb8733ce6b3",
   "metadata": {},
   "outputs": [],
   "source": [
    "items = prices.items()"
   ]
  },
  {
   "cell_type": "code",
   "execution_count": 35,
   "id": "85f6f703-c08e-4c3c-a26f-22e5cbb31bc4",
   "metadata": {},
   "outputs": [
    {
     "data": {
      "text/plain": [
       "dict_items([('bus', 1.75), ('metro', 3.5), ('uber', 8.75), ('lyft', 7.5)])"
      ]
     },
     "execution_count": 35,
     "metadata": {},
     "output_type": "execute_result"
    }
   ],
   "source": [
    "items"
   ]
  },
  {
   "cell_type": "code",
   "execution_count": 36,
   "id": "c0f12509-0352-4edb-8cdb-7dafc812d7a8",
   "metadata": {},
   "outputs": [
    {
     "name": "stdout",
     "output_type": "stream",
     "text": [
      "The price for bus is 1.75\n",
      "The price for metro is 3.5\n",
      "The price for uber is 8.75\n",
      "The price for lyft is 7.5\n"
     ]
    }
   ],
   "source": [
    "for key, value in prices.items():\n",
    "    print(\"The price for\", key, \"is\", value)\n",
    "\n",
    "\n",
    "#######################################################\n",
    "####  CONGRATULATIONS ON COMPLETING THIS MODULE!   ####\n",
    "#######################################################"
   ]
  },
  {
   "cell_type": "code",
   "execution_count": 37,
   "id": "96db3d58-4025-4d16-84e3-daf96ad120cb",
   "metadata": {},
   "outputs": [],
   "source": [
    "k = prices.keys()\n",
    "v = prices.values()"
   ]
  },
  {
   "cell_type": "code",
   "execution_count": 38,
   "id": "694b9600-bd65-47ea-8b8b-cb45cec76c04",
   "metadata": {},
   "outputs": [
    {
     "data": {
      "text/plain": [
       "{'bus': 1.75, 'metro': 3.5, 'uber': 8.75, 'lyft': 7.5}"
      ]
     },
     "execution_count": 38,
     "metadata": {},
     "output_type": "execute_result"
    }
   ],
   "source": [
    "dict(zip(k, v))"
   ]
  },
  {
   "cell_type": "code",
   "execution_count": 39,
   "id": "fa2b4a5b-cc88-4faf-ad6f-df348f48d6b6",
   "metadata": {},
   "outputs": [
    {
     "data": {
      "text/plain": [
       "[('bus', 'metro'), (1.75, 3.5)]"
      ]
     },
     "execution_count": 39,
     "metadata": {},
     "output_type": "execute_result"
    }
   ],
   "source": [
    "list(zip(list(prices.items())[0], list(prices.items())[1]))"
   ]
  },
  {
   "cell_type": "code",
   "execution_count": 40,
   "id": "492b0882-12e9-47b6-8038-501b12c9a081",
   "metadata": {},
   "outputs": [],
   "source": [
    "k, v = zip(*prices.items())"
   ]
  },
  {
   "cell_type": "code",
   "execution_count": 41,
   "id": "58e7f5a4-5e54-4a2c-96a8-7e4a7cd0e965",
   "metadata": {},
   "outputs": [
    {
     "data": {
      "text/plain": [
       "('bus', 'metro', 'uber', 'lyft')"
      ]
     },
     "execution_count": 41,
     "metadata": {},
     "output_type": "execute_result"
    }
   ],
   "source": [
    "k"
   ]
  },
  {
   "cell_type": "code",
   "execution_count": 42,
   "id": "cfe96ce0-192d-44a6-adf6-1b42d3bc642d",
   "metadata": {},
   "outputs": [
    {
     "data": {
      "text/plain": [
       "(1.75, 3.5, 8.75, 7.5)"
      ]
     },
     "execution_count": 42,
     "metadata": {},
     "output_type": "execute_result"
    }
   ],
   "source": [
    "v"
   ]
  },
  {
   "cell_type": "code",
   "execution_count": 43,
   "id": "be368aee-471b-48e7-a25c-9e096368051c",
   "metadata": {},
   "outputs": [
    {
     "name": "stdout",
     "output_type": "stream",
     "text": [
      "1.75 3.5 8.75 7.5\n"
     ]
    }
   ],
   "source": [
    "print(*v)"
   ]
  },
  {
   "cell_type": "code",
   "execution_count": 44,
   "id": "e75f3d00",
   "metadata": {},
   "outputs": [],
   "source": [
    "#######################################################\n",
    "#######################################################\n",
    "############    COPYRIGHT - DATA SOCIETY   ############\n",
    "#######################################################\n",
    "#######################################################\n",
    "\n",
    "## INTERMEDIATEPYTHON/CONTROLFLOW/INTERMEDIATEPYTHON CONTROLFLOW 3 ##\n",
    "\n",
    "## NOTE: To run individual pieces of code, select the line of code and\n",
    "##       press ctrl + enter for PCs or command + enter for Macs"
   ]
  },
  {
   "cell_type": "code",
   "execution_count": 45,
   "id": "c924964d",
   "metadata": {},
   "outputs": [],
   "source": [
    "# =================================================-\n",
    "#### Slide 2: Module completion checklist  ####\n",
    "\n",
    "contact_list = [\n",
    "    \"Christian Bale\",\n",
    "    \"Bradley Cooper\",\n",
    "    \"Willem Dafoe\",\n",
    "    \"Rami Malek\",\n",
    "    \"Viggo Mortensen\",\n",
    "    \"Yalitza Aparicio\",\n",
    "    \"Glenn Close\",\n",
    "    \"Olivia Colman\",\n",
    "    \"Lady Gaga\",\n",
    "    \"Melissa McCarthy\",\n",
    "]\n",
    "\n",
    "# Save length of the list as number of contacts\n",
    "# for convenience.\n",
    "num_contacts = len(contact_list)"
   ]
  },
  {
   "cell_type": "code",
   "execution_count": 46,
   "id": "48e0160a",
   "metadata": {},
   "outputs": [
    {
     "name": "stdout",
     "output_type": "stream",
     "text": [
      "Invite Christian Bale!\n",
      "Invite Bradley Cooper!\n",
      "Invite Willem Dafoe!\n",
      "Invite Rami Malek!\n",
      "Invite Viggo Mortensen!\n",
      "Invite Yalitza Aparicio!\n",
      "Invite Glenn Close!\n",
      "Invite Olivia Colman!\n",
      "Invite Lady Gaga!\n",
      "Invite Melissa McCarthy!\n"
     ]
    }
   ],
   "source": [
    "# =================================================-\n",
    "#### Slide 4: While loops in Python  ####\n",
    "\n",
    "# Set the index to starting point.\n",
    "i = 0\n",
    "\n",
    "# While  the index is less than the\n",
    "# total number of contacts.\n",
    "while i < num_contacts:\n",
    "    print(\"Invite \" + contact_list[i] + \"!\")\n",
    "\n",
    "    # Increase your index to advance\n",
    "    # to the next name on list.\n",
    "    i = i + 1"
   ]
  },
  {
   "cell_type": "code",
   "execution_count": 47,
   "id": "ee222a07",
   "metadata": {},
   "outputs": [
    {
     "name": "stdout",
     "output_type": "stream",
     "text": [
      "Python\n",
      "love\n",
      "I\n"
     ]
    }
   ],
   "source": [
    "# =================================================-\n",
    "#### Slide 5: While loops involving a list  ####\n",
    "\n",
    "# Create a list\n",
    "my_list = [\"I\", \"love\", \"Python\"]\n",
    "# While there's element in the list\n",
    "while my_list:\n",
    "    # Print the last element\n",
    "    # and remove it\n",
    "    print(my_list.pop())"
   ]
  },
  {
   "cell_type": "code",
   "execution_count": 48,
   "id": "d7de3702",
   "metadata": {},
   "outputs": [
    {
     "name": "stdout",
     "output_type": "stream",
     "text": [
      "4\n",
      "3\n",
      "Loop ended.\n"
     ]
    }
   ],
   "source": [
    "# =================================================-\n",
    "#### Slide 9: Break and continue statements  ####\n",
    "\n",
    "# break\n",
    "n = 5\n",
    "while n > 0:\n",
    "    n -= 1\n",
    "    if n == 2:\n",
    "        break\n",
    "    print(n)\n",
    "print(\"Loop ended.\")"
   ]
  },
  {
   "cell_type": "code",
   "execution_count": 49,
   "id": "3278afe6",
   "metadata": {},
   "outputs": [
    {
     "name": "stdout",
     "output_type": "stream",
     "text": [
      "Loop ended.\n"
     ]
    },
    {
     "data": {
      "text/plain": [
       "[4, 3, 1, 0]"
      ]
     },
     "execution_count": 49,
     "metadata": {},
     "output_type": "execute_result"
    }
   ],
   "source": [
    "# =================================================-\n",
    "#### Slide 10: Break and continue statements (cont'd)  ####\n",
    "\n",
    "# continue\n",
    "n = 5\n",
    "result = []\n",
    "while n > 0:\n",
    "    n -= 1\n",
    "    if n == 2:\n",
    "        continue\n",
    "    result.append(n)\n",
    "print(\"Loop ended.\")\n",
    "result"
   ]
  },
  {
   "cell_type": "code",
   "execution_count": 50,
   "id": "432a3c65-deaf-411e-98f8-b30ed5cfa7c0",
   "metadata": {},
   "outputs": [
    {
     "data": {
      "text/plain": [
       "[4, 3, 2, 1, 0]"
      ]
     },
     "execution_count": 50,
     "metadata": {},
     "output_type": "execute_result"
    }
   ],
   "source": [
    "list(range(4, -1, -1))"
   ]
  },
  {
   "cell_type": "code",
   "execution_count": 51,
   "id": "51126237-118e-4232-887b-6b8d7f7e33f7",
   "metadata": {},
   "outputs": [
    {
     "data": {
      "text/plain": [
       "10"
      ]
     },
     "execution_count": 51,
     "metadata": {},
     "output_type": "execute_result"
    }
   ],
   "source": [
    "i"
   ]
  },
  {
   "cell_type": "code",
   "execution_count": 52,
   "id": "0d4c6aa8-b58c-4ede-88d2-dbdf95da04c8",
   "metadata": {},
   "outputs": [
    {
     "data": {
      "text/plain": [
       "[4, 9, 1]"
      ]
     },
     "execution_count": 52,
     "metadata": {},
     "output_type": "execute_result"
    }
   ],
   "source": [
    "result = []\n",
    "for x in range(4, -1, -1):\n",
    "    if x == 2:\n",
    "        continue\n",
    "    if not x:\n",
    "        continue\n",
    "    if x % 2:\n",
    "        result.append(x**2)\n",
    "    else:\n",
    "        result.append(x)\n",
    "result"
   ]
  },
  {
   "cell_type": "markdown",
   "id": "c04524db-da29-458b-b257-c4e1ffb00db9",
   "metadata": {},
   "source": [
    "for loop keywords: for, in, if, else, assert, raise, try, except, elif, ..."
   ]
  },
  {
   "cell_type": "markdown",
   "id": "bf8501dd-56b6-4d8f-bfbf-1a8cecf7d920",
   "metadata": {},
   "source": [
    "list comprehension keywords: for, in, if, else"
   ]
  },
  {
   "cell_type": "code",
   "execution_count": 53,
   "id": "c975c072-1740-48e4-add5-4b2528037c8d",
   "metadata": {},
   "outputs": [
    {
     "data": {
      "text/plain": [
       "[4, 9, 1]"
      ]
     },
     "execution_count": 53,
     "metadata": {},
     "output_type": "execute_result"
    }
   ],
   "source": [
    "try:\n",
    "    result = [x**2 if x % 2 else x for x in range(4, -1, -1) if x != 2 if x]\n",
    "except ValueError:\n",
    "    pass\n",
    "result"
   ]
  },
  {
   "cell_type": "code",
   "execution_count": 54,
   "id": "1f414871",
   "metadata": {},
   "outputs": [
    {
     "name": "stdout",
     "output_type": "stream",
     "text": [
      "0\n",
      "1\n",
      "2\n",
      "3\n",
      "4\n",
      "0\n",
      "1\n",
      "2\n",
      "3\n",
      "4\n"
     ]
    }
   ],
   "source": [
    "# =================================================-\n",
    "#### Slide 14: Convert while loop into for loop (cont'd)  ####\n",
    "\n",
    "# while loop\n",
    "# Initialization:\n",
    "x = 0\n",
    "# Condition:\n",
    "while x < 5:\n",
    "    print(x)\n",
    "    # Increment:\n",
    "    x = x + 1\n",
    "# for loop\n",
    "# Initialization: x=0\n",
    "# Condition: x = [0,1,2,3,4]\n",
    "# Increment: 1\n",
    "for x in range(5):\n",
    "    print(x)"
   ]
  },
  {
   "cell_type": "code",
   "execution_count": 55,
   "id": "2c49a174",
   "metadata": {},
   "outputs": [],
   "source": [
    "# =================================================-\n",
    "#### Slide 16: Exercise   ####\n",
    "\n",
    "\n",
    "#######################################################\n",
    "####  CONGRATULATIONS ON COMPLETING THIS MODULE!   ####\n",
    "#######################################################"
   ]
  }
 ],
 "metadata": {
  "kernelspec": {
   "display_name": "Python 3 (ipykernel)",
   "language": "python",
   "name": "python3"
  },
  "language": "python",
  "language_info": {
   "codemirror_mode": {
    "name": "ipython",
    "version": 3
   },
   "file_extension": ".py",
   "mimetype": "text/x-python",
   "name": "python",
   "nbconvert_exporter": "python",
   "pygments_lexer": "ipython3",
   "version": "3.9.15"
  }
 },
 "nbformat": 4,
 "nbformat_minor": 5
}
